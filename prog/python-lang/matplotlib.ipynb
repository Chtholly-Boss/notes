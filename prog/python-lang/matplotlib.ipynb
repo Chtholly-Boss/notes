{
 "cells": [
  {
   "cell_type": "markdown",
   "metadata": {},
   "source": [
    "# Matplotlib\n",
    "This document introduces the usage of matplotlib, mainly for myself when refreshing.\n",
    "\n",
    "See the [tutorials](https://matplotlib.org/stable/tutorials/index) for more guidance."
   ]
  },
  {
   "cell_type": "markdown",
   "metadata": {},
   "source": [
    "## Line\n",
    "This part contains how to paint lines."
   ]
  },
  {
   "cell_type": "code",
   "execution_count": null,
   "metadata": {},
   "outputs": [],
   "source": [
    "# Paint Multi Figures\n",
    "import matplotlib.pyplot as plt\n",
    "import numpy as np\n",
    "\n",
    "# Generate some sample data\n",
    "x = np.linspace(0, 10, 100)\n",
    "y1 = np.sin(x)\n",
    "y2 = np.cos(x)\n",
    "y3 = np.tan(x)\n",
    "y4 = np.exp(-x)\n",
    "\n",
    "# Create a figure\n",
    "plt.figure(figsize=(10, 8))\n",
    "\"\"\"\n",
    "Row 1:  [1][2][3]\n",
    "Row 2:  [4][5][6]\n",
    "Row 3:  [7][8][9]\n",
    "\"\"\"\n",
    "plt.subplot(3, 1, 1)    # The first row \n",
    "plt.plot(x, y1, color='blue')\n",
    "plt.title('Sine Function')\n",
    "\n",
    "plt.subplot(3, 3, 4)  \n",
    "plt.plot(x, y2, color='red')\n",
    "plt.title('Cosine Function')\n",
    "\n",
    "plt.subplot(3, 3, 5)  \n",
    "plt.plot(x, y3, color='green')\n",
    "plt.title('Tangent Function')\n",
    "plt.ylim(-10, 10)  # Limit y-axis for tangent\n",
    "\n",
    "plt.subplot(3, 3, 6)  \n",
    "plt.plot(x, y4, color='purple')\n",
    "plt.title('Exponential Decay')\n",
    "\n",
    "# Adjust layout for better spacing\n",
    "plt.tight_layout()\n",
    "\n",
    "# Show the plot\n",
    "plt.show()\n"
   ]
  },
  {
   "cell_type": "code",
   "execution_count": null,
   "metadata": {},
   "outputs": [],
   "source": [
    "# Parameters Setting\n",
    "import matplotlib.pyplot as plt\n",
    "import numpy as np\n",
    "\n",
    "# Generate sample data\n",
    "x = np.linspace(0, 10, 100)\n",
    "y = np.sin(x)\n",
    "\n",
    "# Create a figure with specific size and DPI\n",
    "plt.figure(figsize=(5, 2.7), dpi=100)\n",
    "\n",
    "# Plot the sine wave with various parameters\n",
    "plt.plot(\n",
    "    x, y,                     # Data to plot\n",
    "    color='blue',            # Line color\n",
    "    linewidth=2,             # Line width\n",
    "    linestyle='--',          # Line style\n",
    "    marker='o',              # Marker style\n",
    "    markersize=2,            # Marker size\n",
    "    alpha=0.8,               # Transparency\n",
    "    label='Sine Wave'        # Label for legend\n",
    ")\n",
    "\n",
    "# Adding title and labels with font size and weight\n",
    "plt.title('Sine Wave Plot', fontsize=18, fontweight='bold')\n",
    "plt.xlabel('X-axis', fontsize=14)\n",
    "plt.ylabel('Y-axis (sin(x))', fontsize=14)\n",
    "\n",
    "# Set x and y limits\n",
    "plt.xlim(0, 10)\n",
    "plt.ylim(-1.5, 1.5)\n",
    "\n",
    "# Adding grid with customization\n",
    "plt.grid(color='gray', linestyle='--', linewidth=0.5, alpha=0.7)\n",
    "\n",
    "# Adding a legend\n",
    "plt.legend(loc='upper right', fontsize=12)\n",
    "\n",
    "# Annotate a point on the plot\n",
    "plt.annotate(\n",
    "    'Max Value',                  # Text to display\n",
    "    xy=(np.pi/2, 1),             # Point to annotate (x, y)\n",
    "    xytext=(np.pi/2 + 1, 1),     # Position of the text\n",
    "    arrowprops=dict(              # Arrow properties\n",
    "        facecolor='black', \n",
    "        arrowstyle='->'\n",
    "    ),\n",
    "    fontsize=12\n",
    ")\n",
    "\n",
    "# Show the plot\n",
    "plt.tight_layout()  # Adjust layout for better spacing\n",
    "plt.show()"
   ]
  },
  {
   "cell_type": "code",
   "execution_count": null,
   "metadata": {},
   "outputs": [],
   "source": [
    "# Plot a polar equation\n",
    "import numpy as np\n",
    "import matplotlib.pyplot as plt\n",
    "\n",
    "# Create an array of angles from 0 to 2π\n",
    "theta = np.linspace(0, 2 * np.pi, 100)\n",
    "\n",
    "# Polar equation for the heart shape\n",
    "r = 1 - np.sin(theta)\n",
    "\n",
    "# Create the plot\n",
    "plt.figure(figsize=(5, 5))\n",
    "plt.polar(theta, r, color='red')\n",
    "plt.title('Heart Shape in Polar Coordinates')\n",
    "plt.grid(True)\n",
    "plt.show()\n"
   ]
  },
  {
   "cell_type": "markdown",
   "metadata": {},
   "source": [
    "## Scatter\n",
    "This part contains how to paint scatters.\n",
    "\n",
    "Refer to [Scatter](https://matplotlib.org/stable/api/_as_gen/matplotlib.axes.Axes.scatter.html#matplotlib.axes.Axes.scatter) for more details"
   ]
  },
  {
   "cell_type": "markdown",
   "metadata": {},
   "source": [
    "## Bar\n",
    "This part introduces how to paint bars.\n"
   ]
  },
  {
   "cell_type": "markdown",
   "metadata": {},
   "source": [
    "## Surface\n",
    "This part introduces how to paint 3D surfaces."
   ]
  }
 ],
 "metadata": {
  "kernelspec": {
   "display_name": "base",
   "language": "python",
   "name": "python3"
  },
  "language_info": {
   "codemirror_mode": {
    "name": "ipython",
    "version": 3
   },
   "file_extension": ".py",
   "mimetype": "text/x-python",
   "name": "python",
   "nbconvert_exporter": "python",
   "pygments_lexer": "ipython3",
   "version": "3.12.4"
  }
 },
 "nbformat": 4,
 "nbformat_minor": 2
}
