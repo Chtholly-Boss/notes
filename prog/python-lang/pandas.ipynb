{
 "cells": [
  {
   "cell_type": "markdown",
   "metadata": {},
   "source": [
    "# Pandas\n",
    "This document introduces how to use pandas.\n",
    "When you want to find out *how to do sth*, refer to [pandas-API](https://pandas.pydata.org/docs/reference/index.html)"
   ]
  },
  {
   "cell_type": "markdown",
   "metadata": {},
   "source": [
    "## Model\n",
    "This section illustrate the basis of pandas.\n",
    "Most info derived from [pandas-user-guide](https://pandas.pydata.org/docs/user_guide/index.html)\n",
    "\n",
    "Especially, you may find most from:\n",
    "* [Intro-to-data-structures](https://pandas.pydata.org/docs/user_guide/dsintro.html#)\n"
   ]
  },
  {
   "cell_type": "code",
   "execution_count": 83,
   "metadata": {},
   "outputs": [],
   "source": [
    "# Customarily, we import as follows:\n",
    "import numpy as np\n",
    "import pandas as pd\n",
    "# pandas has two main data structure\n",
    "# * series\n",
    "# * dataframe"
   ]
  },
  {
   "cell_type": "code",
   "execution_count": 84,
   "metadata": {},
   "outputs": [
    {
     "name": "stdout",
     "output_type": "stream",
     "text": [
      "a    0.130838\n",
      "b   -1.845626\n",
      "c   -0.139827\n",
      "d   -0.332038\n",
      "dtype: float64\n",
      "0    0.130838\n",
      "1   -1.845626\n",
      "2   -0.139827\n",
      "3   -0.332038\n",
      "dtype: float64\n",
      "Convert series to ndarray: \n",
      "[ 0.13083796 -1.84562586 -0.13982728 -0.33203848]\n",
      "Get value like dict: \n",
      "0.13083795508396048\n",
      "nan\n"
     ]
    }
   ],
   "source": [
    "# Series\n",
    "# * 1-Dimensional Index-Labeled Array\n",
    "# - Data can be npArrays, dicts,strings...\n",
    "npData = np.random.randn(4)\n",
    "npSeries = pd.Series(npData,list(\"abcd\"))\n",
    "print(npSeries)\n",
    "# - index will be numbers when not specified\n",
    "print(pd.Series(npData))\n",
    "\n",
    "# * Series is ndarray-like\n",
    "# - Convert Series to ndarray\n",
    "print(\"Convert series to ndarray: \")\n",
    "s2array = npSeries.to_numpy()\n",
    "print(s2array)\n",
    "# * Series is dict-like\n",
    "# - use get to provide a default value when missing\n",
    "print(\"Get value like dict: \")\n",
    "print(npSeries.get(\"a\",np.nan))\n",
    "print(npSeries.get(\"h\",np.nan))\n",
    "\n"
   ]
  },
  {
   "cell_type": "code",
   "execution_count": 85,
   "metadata": {},
   "outputs": [
    {
     "name": "stdout",
     "output_type": "stream",
     "text": [
      "index will be the union of various series\n",
      "   one  two\n",
      "a  1.0  NaN\n",
      "b  2.0  3.0\n",
      "c  3.0  2.0\n",
      "d  NaN  1.0\n",
      "You can also specify index(row label) and column manually\n",
      "   one  two three\n",
      "b  2.0  3.0   NaN\n",
      "c  3.0  2.0   NaN\n",
      "m  NaN  NaN   NaN\n"
     ]
    }
   ],
   "source": [
    "# DataFrame\n",
    "# * 2-dimensional labeled data structure with columns of potentially different types\n",
    "d = {\n",
    "  \"one\": pd.Series([1, 2, 3], index=list(\"abc\")),\n",
    "  \"two\": pd.Series([3, 2, 1], index=list(\"bcd\"))\n",
    "}\n",
    "df = pd.DataFrame(d)\n",
    "print(\"index will be the union of various series\")\n",
    "print(df)\n",
    "\n",
    "print(\"You can also specify index(row label) and column manually\")\n",
    "print(pd.DataFrame(d,index=list(\"bcm\"), columns=[\"one\", \"two\", \"three\"]))"
   ]
  },
  {
   "cell_type": "code",
   "execution_count": 86,
   "metadata": {},
   "outputs": [
    {
     "name": "stdout",
     "output_type": "stream",
     "text": [
      "Select a column: \n",
      "a    1.0\n",
      "b    2.0\n",
      "c    3.0\n",
      "d    NaN\n",
      "Name: one, dtype: float64\n",
      "Select rows: \n",
      "one    1.0\n",
      "two    NaN\n",
      "Name: a, dtype: float64\n",
      "one    1.0\n",
      "two    NaN\n",
      "Name: a, dtype: float64\n",
      "Add or Modify a column: \n",
      "   one  two  three  four  one_trunc\n",
      "a  1.0  NaN    NaN     4        1.0\n",
      "b  2.0  3.0    6.0     4        2.0\n",
      "c  3.0  2.0    6.0     4        NaN\n",
      "d  NaN  1.0    NaN     4        NaN\n",
      "pop a column: \n",
      "a    NaN\n",
      "b    6.0\n",
      "c    6.0\n",
      "d    NaN\n",
      "Name: three, dtype: float64\n",
      "delete a column\n",
      "   one  four  one_trunc\n",
      "a  1.0     4        1.0\n",
      "b  2.0     4        2.0\n",
      "c  3.0     4        NaN\n",
      "d  NaN     4        NaN\n",
      "[[ 1.  4.  1.]\n",
      " [ 2.  4.  2.]\n",
      " [ 3.  4. nan]\n",
      " [nan  4. nan]]\n"
     ]
    }
   ],
   "source": [
    "# Manipulations\n",
    "print(\"Select a column: \")\n",
    "print(df['one'])\n",
    "print(\"Select rows: \")\n",
    "print(df.loc['a'])\n",
    "print(df.iloc[0])\n",
    "\n",
    "print(\"Add or Modify a column: \")\n",
    "df['three'] = df['one'] * df['two']\n",
    "df['four'] = 4\n",
    "df['one_trunc'] = df[\"one\"][:2]\n",
    "print(df)\n",
    "\n",
    "print(\"pop a column: \")\n",
    "three = df.pop(\"three\")\n",
    "print(three)\n",
    "\n",
    "print(\"delete a column\")\n",
    "del df[\"two\"]\n",
    "\n",
    "print(df)\n",
    "\n",
    "# * You can also convert a dataframe into a ndarray\n",
    "df2array = np.asarray(df)\n",
    "print(df2array)"
   ]
  },
  {
   "cell_type": "markdown",
   "metadata": {},
   "source": [
    "## Work with Excel\n",
    "This Section introduces how to work with excel files.\n",
    "Refer to [pandas-excel](https://pandas.pydata.org/docs/user_guide/io.html#excel-files) for more details.\n",
    "\n",
    "Particularly, this section describes:\n",
    "* How to **read from** and **write to** an excel file\n",
    "* How to **view the data** in excel\n",
    "* How to **manipulate data** in excel\n"
   ]
  },
  {
   "cell_type": "code",
   "execution_count": 87,
   "metadata": {},
   "outputs": [],
   "source": [
    "import pandas as pd"
   ]
  },
  {
   "cell_type": "code",
   "execution_count": 88,
   "metadata": {},
   "outputs": [
    {
     "name": "stdout",
     "output_type": "stream",
     "text": [
      "   Id  Name  Salary\n",
      "0   1  Adam    4000\n",
      "1   2   Bob    3000\n",
      "2   3  Coke    5000\n",
      "3   4  Lisa    1500\n",
      "4   5  Lucy    2500\n",
      "5   6  Boss    2000\n",
      "Properties: \n",
      "shape:  (6, 3)\n"
     ]
    }
   ],
   "source": [
    "# Read a excel file, df for \"data frame\"\n",
    "df = pd.read_excel('pdIn.xlsx')\n",
    "print(df)\n",
    "# Some basic properties\n",
    "print(\"Properties: \")\n",
    "print(\"shape: \",df.shape)"
   ]
  },
  {
   "cell_type": "code",
   "execution_count": 89,
   "metadata": {},
   "outputs": [
    {
     "name": "stdout",
     "output_type": "stream",
     "text": [
      "0    Adam\n",
      "1     Bob\n",
      "2    Coke\n",
      "3    Lisa\n",
      "4    Lucy\n",
      "5    Boss\n",
      "Name: Name, dtype: object\n"
     ]
    }
   ],
   "source": [
    "# To inspect the data\n",
    "select_col = df['Name']\n",
    "print(select_col)"
   ]
  },
  {
   "cell_type": "code",
   "execution_count": 90,
   "metadata": {},
   "outputs": [
    {
     "name": "stdout",
     "output_type": "stream",
     "text": [
      "Salary Mean:  3000.0\n",
      "Highest Salary: \n",
      "   Id  Name  Salary\n",
      "2   3  Coke    5000\n",
      "Lowest Salary: \n",
      "   Id  Name  Salary\n",
      "3   4  Lisa    1500\n",
      "New Data Frame: \n",
      "   Id  Name  Salary  NewSalary\n",
      "0   1  Adam    4000       8000\n",
      "1   2   Bob    3000       6000\n",
      "2   3  Coke    5000      10000\n",
      "3   4  Lisa    1500       3000\n",
      "4   5  Lucy    2500       5000\n",
      "5   6  Boss    2000       4000\n"
     ]
    }
   ],
   "source": [
    "# Manipulate Data\n",
    "\n",
    "# Do something on a specific colomn\n",
    "print(\"Salary Mean: \",df['Salary'].mean())\n",
    "\n",
    "# Sort and get the maximum or minimun\n",
    "sortBySalary = df.sort_values(['Salary'],ascending=False)\n",
    "print(\"Highest Salary: \")\n",
    "print(sortBySalary.head(1))\n",
    "print(\"Lowest Salary: \")\n",
    "print(sortBySalary.tail(1))\n",
    "\n",
    "df.describe() # list some info of the numeric colomns\n",
    "\n",
    "# Add a column\n",
    "df['NewSalary'] = \\\n",
    "  2 * df['Salary']\n",
    "print(\"New Data Frame: \")\n",
    "print(df)\n"
   ]
  },
  {
   "cell_type": "code",
   "execution_count": 91,
   "metadata": {},
   "outputs": [],
   "source": [
    "# Write to excel\n",
    "df.to_excel(\"pdOut.xlsx\")"
   ]
  }
 ],
 "metadata": {
  "kernelspec": {
   "display_name": "base",
   "language": "python",
   "name": "python3"
  },
  "language_info": {
   "codemirror_mode": {
    "name": "ipython",
    "version": 3
   },
   "file_extension": ".py",
   "mimetype": "text/x-python",
   "name": "python",
   "nbconvert_exporter": "python",
   "pygments_lexer": "ipython3",
   "version": "3.12.4"
  }
 },
 "nbformat": 4,
 "nbformat_minor": 2
}
