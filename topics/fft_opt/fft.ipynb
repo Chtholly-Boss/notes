{
 "cells": [
  {
   "cell_type": "code",
   "execution_count": 29,
   "metadata": {},
   "outputs": [],
   "source": [
    "import numpy as np\n",
    "\n",
    "def fft_recursive(x):\n",
    "    N = len(x)\n",
    "    if N <= 1:\n",
    "        return x\n",
    "\n",
    "    # 递归计算FFT\n",
    "    even = fft_recursive(x[0::2])  # 偶数索引\n",
    "    odd = fft_recursive(x[1::2])   # 奇数索引\n",
    "\n",
    "    # 计算旋转因子\n",
    "    T = [np.exp(-2j * np.pi * k / N) * odd[k] for k in range(N // 2)]\n",
    "    return [even[k] + T[k] for k in range(N // 2)] + \\\n",
    "           [even[k] - T[k] for k in range(N // 2)]\n",
    "\n",
    "def fft_iterative(x):\n",
    "    N = len(x)\n",
    "    # iterations needed\n",
    "    logN = int(np.log2(N))\n",
    "\n",
    "    # do bit-reverse\n",
    "    indices = np.arange(N)\n",
    "    bit_reversed_indices = np.bitwise_xor(indices[:], 1 << np.arange(logN)[::-1])\n",
    "    x = x[bit_reversed_indices.sum(axis=1)]\n",
    "\n",
    "    # 进行FFT变换\n",
    "    for s in range(1, logN + 1):\n",
    "        m = 1 << s  # 当前的蝶形运算大小\n",
    "        wm = np.exp(-2j * np.pi / m)  # 旋转因子\n",
    "        for k in range(0, N, m):\n",
    "            w = 1  # 初始化w\n",
    "            for j in range(m // 2):\n",
    "                t = w * x[k + j + m // 2]\n",
    "                u = x[k + j]\n",
    "                x[k + j] = u + t\n",
    "                x[k + j + m // 2] = u - t\n",
    "                w *= wm  # 更新w\n",
    "\n",
    "    return x\n",
    "def formatRes(res):\n",
    "  return [f\"{val.real:.2f} + {val.imag:.2f}j\" for val in res]\n"
   ]
  },
  {
   "cell_type": "code",
   "execution_count": 30,
   "metadata": {},
   "outputs": [
    {
     "name": "stdout",
     "output_type": "stream",
     "text": [
      "recursive:  ['28.00 + 0.00j', '-4.00 + 9.66j', '-4.00 + 4.00j', '-4.00 + 1.66j', '-4.00 + 0.00j', '-4.00 + -1.66j', '-4.00 + -4.00j', '-4.00 + -9.66j']\n"
     ]
    }
   ],
   "source": [
    "if __name__ == \"__main__\":\n",
    "  x = np.array(range(8))\n",
    "  res_recursive = fft_recursive(x)\n",
    "  # res_iterative = fft_iterative(x)\n",
    "\n",
    "  print(\"recursive: \", formatRes(res_recursive))"
   ]
  },
  {
   "cell_type": "code",
   "execution_count": null,
   "metadata": {},
   "outputs": [],
   "source": []
  }
 ],
 "metadata": {
  "kernelspec": {
   "display_name": "base",
   "language": "python",
   "name": "python3"
  },
  "language_info": {
   "codemirror_mode": {
    "name": "ipython",
    "version": 3
   },
   "file_extension": ".py",
   "mimetype": "text/x-python",
   "name": "python",
   "nbconvert_exporter": "python",
   "pygments_lexer": "ipython3",
   "version": "3.12.4"
  }
 },
 "nbformat": 4,
 "nbformat_minor": 2
}
